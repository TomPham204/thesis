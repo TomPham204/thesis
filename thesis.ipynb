{
  "cells": [
    {
      "cell_type": "markdown",
      "metadata": {
        "id": "view-in-github",
        "colab_type": "text"
      },
      "source": [
        "<a href=\"https://colab.research.google.com/github/TomPham204/thesis/blob/main/thesis.ipynb\" target=\"_parent\"><img src=\"https://colab.research.google.com/assets/colab-badge.svg\" alt=\"Open In Colab\"/></a>"
      ]
    },
    {
      "cell_type": "code",
      "execution_count": null,
      "metadata": {
        "id": "DadvFR4rGE7s"
      },
      "outputs": [],
      "source": [
        "import tensorflow as tf\n",
        "from tensorflow.keras.preprocessing.image import ImageDataGenerator\n",
        "from tensorflow.keras.applications import MobileNetV3Large, MobileNetV2\n",
        "from tensorflow.keras.optimizers import SGD\n",
        "\n",
        "import numpy as np"
      ]
    },
    {
      "cell_type": "code",
      "execution_count": null,
      "metadata": {
        "id": "qZFqvY7JGNVI"
      },
      "outputs": [],
      "source": [
        "data_dir = './drive/MyDrive/TrashDataset/'\n",
        "weight_dir = './drive/MyDrive/TrashModel/'\n",
        "batch_size = 24\n",
        "image_size = (224, 224)"
      ]
    },
    {
      "cell_type": "markdown",
      "metadata": {
        "id": "PD8CJML8HW57"
      },
      "source": [
        "**Data loading & augmentation**"
      ]
    },
    {
      "cell_type": "code",
      "execution_count": null,
      "metadata": {
        "colab": {
          "base_uri": "https://localhost:8080/"
        },
        "id": "yIFfrYBmGkpm",
        "outputId": "e17bc712-a174-47d4-f6fc-32cc79d2044f"
      },
      "outputs": [
        {
          "output_type": "stream",
          "name": "stdout",
          "text": [
            "Found 4382 images belonging to 5 classes.\n",
            "Found 1093 images belonging to 5 classes.\n",
            "Found 5475 images belonging to 5 classes.\n",
            "Found 4382 images belonging to 5 classes.\n"
          ]
        }
      ],
      "source": [
        "original_datagen = ImageDataGenerator(rescale=1./255, validation_split=0.2)\n",
        "augmented_datagen  = ImageDataGenerator(\n",
        "    rescale=1./255,\n",
        "    rotation_range=20,\n",
        "    horizontal_flip=True,\n",
        "    brightness_range=[0.85, 1.15],\n",
        ")\n",
        "\n",
        "all_data_generator = original_datagen.flow_from_directory(\n",
        "    data_dir,\n",
        "    target_size=image_size,\n",
        "    batch_size=batch_size,\n",
        "    class_mode='categorical',\n",
        "    subset='training',\n",
        "    seed=42\n",
        ")\n",
        "\n",
        "validation_generator = original_datagen.flow_from_directory(\n",
        "    data_dir,\n",
        "    target_size=image_size,\n",
        "    batch_size=batch_size,\n",
        "    class_mode='categorical',\n",
        "    subset='validation',\n",
        "    seed=42\n",
        ")\n",
        "\n",
        "augmented_generator = augmented_datagen.flow_from_directory(\n",
        "    data_dir,\n",
        "    target_size=image_size,\n",
        "    batch_size=batch_size,\n",
        "    class_mode='categorical',\n",
        "    subset='training',\n",
        "    seed=42\n",
        ")\n",
        "\n",
        "combined_generator = original_datagen.flow_from_directory(\n",
        "    data_dir,\n",
        "    target_size=image_size,\n",
        "    batch_size=batch_size,\n",
        "    class_mode='categorical',\n",
        "    subset='training',\n",
        "    seed=42\n",
        ")\n",
        "combined_steps_per_epoch = combined_generator.samples // batch_size"
      ]
    },
    {
      "cell_type": "markdown",
      "metadata": {
        "id": "fVHPliLfHeot"
      },
      "source": [
        "**Model initialization**"
      ]
    },
    {
      "cell_type": "code",
      "execution_count": null,
      "metadata": {
        "id": "NSEfclB7Gs5P",
        "colab": {
          "base_uri": "https://localhost:8080/"
        },
        "outputId": "0c827725-c320-42d2-b578-723d25ac8fa3"
      },
      "outputs": [
        {
          "output_type": "stream",
          "name": "stdout",
          "text": [
            "Downloading data from https://storage.googleapis.com/tensorflow/keras-applications/mobilenet_v2/mobilenet_v2_weights_tf_dim_ordering_tf_kernels_1.0_224_no_top.h5\n",
            "9406464/9406464 [==============================] - 0s 0us/step\n"
          ]
        }
      ],
      "source": [
        "base_model = MobileNetV2(weights='imagenet', classes=5, include_top=False, input_shape=(224, 224, 3))\n",
        "\n",
        "blocks_to_freeze = len(base_model.layers) // 2\n",
        "\n",
        "for layer in base_model.layers[:blocks_to_freeze]:\n",
        "    layer.trainable = False\n",
        "\n",
        "classifier = base_model.output\n",
        "classifier = tf.keras.layers.GlobalAveragePooling2D()(classifier)\n",
        "classifier = tf.keras.layers.Dense(512, activation='relu')(classifier)\n",
        "predictions = tf.keras.layers.Dense(5, activation='softmax')(classifier)\n",
        "\n",
        "optim = SGD(learning_rate=0.0001, momentum=0.9)\n",
        "\n",
        "model = tf.keras.models.Model(inputs=base_model.input, outputs=predictions)\n",
        "model.compile(optimizer=optim, loss='categorical_crossentropy', metrics=['accuracy'])\n",
        "# model.summary()\n",
        "\n",
        "model_checkpoint = tf.keras.callbacks.ModelCheckpoint(weight_dir+'trash_classification_model-resume.h5', save_best_only=True, save_weights_only=False)\n",
        "checkpoints=[model_checkpoint]"
      ]
    },
    {
      "cell_type": "markdown",
      "metadata": {
        "id": "gOOjlJCsumkV"
      },
      "source": [
        "**If !!checkpoint from last save**"
      ]
    },
    {
      "cell_type": "code",
      "execution_count": null,
      "metadata": {
        "colab": {
          "base_uri": "https://localhost:8080/"
        },
        "id": "FtFZGpQBumvT",
        "outputId": "907f1b45-353a-4b7e-aa49-d839d724ad6c"
      },
      "outputs": [
        {
          "name": "stdout",
          "output_type": "stream",
          "text": [
            "No saved weight\n"
          ]
        }
      ],
      "source": [
        "from datetime import date\n",
        "\n",
        "try:\n",
        "  saved_model = tf.keras.models.load_model('trash_classification_model.h5') | None\n",
        "\n",
        "  if(saved_model != None):\n",
        "    history = saved_model.fit(\n",
        "        combined_generator,\n",
        "        steps_per_epoch=combined_steps_per_epoch,\n",
        "        validation_data=validation_generator,\n",
        "        validation_steps=validation_generator.samples // batch_size,\n",
        "        epochs=25,\n",
        "        callbacks=checkpoints\n",
        "    )\n",
        "    saved_model.save(f'trash_classification_model-{date.today()}.h5')\n",
        "except:\n",
        "  print('No saved weight')"
      ]
    },
    {
      "cell_type": "markdown",
      "metadata": {
        "id": "3ZGbz10lHSXS"
      },
      "source": [
        "**Training**"
      ]
    },
    {
      "cell_type": "code",
      "execution_count": null,
      "metadata": {
        "colab": {
          "base_uri": "https://localhost:8080/"
        },
        "id": "aRyccg6dHD7G",
        "outputId": "322b8477-e7fd-494e-a172-16490a1b4761"
      },
      "outputs": [
        {
          "output_type": "stream",
          "name": "stdout",
          "text": [
            "Epoch 1/20\n",
            "182/182 [==============================] - 924s 5s/step - loss: 1.1482 - accuracy: 0.5817 - val_loss: 0.8841 - val_accuracy: 0.7056\n",
            "Epoch 2/20\n",
            "182/182 [==============================] - 525s 3s/step - loss: 0.5507 - accuracy: 0.8515 - val_loss: 0.6006 - val_accuracy: 0.7852\n",
            "Epoch 3/20\n",
            "182/182 [==============================] - 518s 3s/step - loss: 0.3899 - accuracy: 0.8899 - val_loss: 0.4873 - val_accuracy: 0.8194\n",
            "Epoch 4/20\n",
            "182/182 [==============================] - 513s 3s/step - loss: 0.3086 - accuracy: 0.9064 - val_loss: 0.4325 - val_accuracy: 0.8426\n",
            "Epoch 5/20\n",
            "182/182 [==============================] - 507s 3s/step - loss: 0.2600 - accuracy: 0.9263 - val_loss: 0.3862 - val_accuracy: 0.8602\n",
            "Epoch 6/20\n",
            "182/182 [==============================] - 523s 3s/step - loss: 0.2233 - accuracy: 0.9341 - val_loss: 0.3464 - val_accuracy: 0.8750\n",
            "Epoch 7/20\n",
            "182/182 [==============================] - 479s 3s/step - loss: 0.1939 - accuracy: 0.9472 - val_loss: 0.3383 - val_accuracy: 0.8796\n",
            "Epoch 8/20\n",
            "182/182 [==============================] - 511s 3s/step - loss: 0.1791 - accuracy: 0.9461 - val_loss: 0.3171 - val_accuracy: 0.8861\n",
            "Epoch 9/20\n",
            "182/182 [==============================] - 478s 3s/step - loss: 0.1505 - accuracy: 0.9573 - val_loss: 0.2945 - val_accuracy: 0.8981\n",
            "Epoch 10/20\n",
            "182/182 [==============================] - 509s 3s/step - loss: 0.1385 - accuracy: 0.9615 - val_loss: 0.2866 - val_accuracy: 0.9046\n",
            "Epoch 11/20\n",
            "182/182 [==============================] - 477s 3s/step - loss: 0.1275 - accuracy: 0.9619 - val_loss: 0.2778 - val_accuracy: 0.9046\n",
            "Epoch 12/20\n",
            "182/182 [==============================] - 502s 3s/step - loss: 0.1187 - accuracy: 0.9667 - val_loss: 0.2701 - val_accuracy: 0.9056\n",
            "Epoch 13/20\n",
            "182/182 [==============================] - 504s 3s/step - loss: 0.0999 - accuracy: 0.9741 - val_loss: 0.2688 - val_accuracy: 0.9028\n",
            "Epoch 14/20\n",
            "182/182 [==============================] - 502s 3s/step - loss: 0.0924 - accuracy: 0.9736 - val_loss: 0.2680 - val_accuracy: 0.9009\n",
            "Epoch 15/20\n",
            "182/182 [==============================] - 503s 3s/step - loss: 0.0892 - accuracy: 0.9757 - val_loss: 0.2596 - val_accuracy: 0.9083\n",
            "Epoch 16/20\n",
            "182/182 [==============================] - 503s 3s/step - loss: 0.0841 - accuracy: 0.9796 - val_loss: 0.2581 - val_accuracy: 0.9120\n",
            "Epoch 17/20\n",
            "182/182 [==============================] - 501s 3s/step - loss: 0.0744 - accuracy: 0.9812 - val_loss: 0.2696 - val_accuracy: 0.9130\n",
            "Epoch 18/20\n",
            "182/182 [==============================] - 499s 3s/step - loss: 0.0720 - accuracy: 0.9814 - val_loss: 0.2593 - val_accuracy: 0.9120\n",
            "Epoch 19/20\n",
            "182/182 [==============================] - 499s 3s/step - loss: 0.0696 - accuracy: 0.9810 - val_loss: 0.2610 - val_accuracy: 0.9130\n",
            "Epoch 20/20\n",
            "182/182 [==============================] - 504s 3s/step - loss: 0.0624 - accuracy: 0.9844 - val_loss: 0.2565 - val_accuracy: 0.9065\n"
          ]
        }
      ],
      "source": [
        "history = model.fit(\n",
        "    combined_generator,\n",
        "    steps_per_epoch=combined_steps_per_epoch,\n",
        "    validation_data=validation_generator,\n",
        "    validation_steps=validation_generator.samples // batch_size,\n",
        "    epochs=20,\n",
        "    callbacks=checkpoints\n",
        ")"
      ]
    },
    {
      "cell_type": "markdown",
      "metadata": {
        "id": "9F4FgAuE2WJF"
      },
      "source": [
        "**Plotting**"
      ]
    },
    {
      "cell_type": "code",
      "execution_count": null,
      "metadata": {
        "id": "rPrV3v5yY8R8",
        "colab": {
          "base_uri": "https://localhost:8080/",
          "height": 1000
        },
        "outputId": "36986bea-2997-40b2-945c-3dfe42ce161c"
      },
      "outputs": [
        {
          "output_type": "display_data",
          "data": {
            "text/plain": [
              "<Figure size 1200x400 with 2 Axes>"
            ],
            "image/png": "[encoded data removed]"
          },
          "metadata": {}
        },
        {
          "output_type": "stream",
          "name": "stdout",
          "text": [
            "Found 1093 images belonging to 5 classes.\n",
            "46/46 [==============================] - 51s 1s/step\n"
          ]
        },
        {
          "output_type": "display_data",
          "data": {
            "text/plain": [
              "<Figure size 640x480 with 2 Axes>"
            ],
            "image/png": "[encoded data removed]"
          },
          "metadata": {}
        },
        {
          "output_type": "stream",
          "name": "stdout",
          "text": [
            "              precision    recall  f1-score   support\n",
            "\n",
            "   cardboard       0.22      0.21      0.22       205\n",
            "      fabric       0.20      0.20      0.20       211\n",
            "       glass       0.21      0.21      0.21       238\n",
            "       metal       0.20      0.19      0.20       238\n",
            "       paper       0.16      0.17      0.17       201\n",
            "\n",
            "    accuracy                           0.20      1093\n",
            "   macro avg       0.20      0.20      0.20      1093\n",
            "weighted avg       0.20      0.20      0.20      1093\n",
            "\n"
          ]
        }
      ],
      "source": [
        "import numpy as np\n",
        "import matplotlib.pyplot as plt\n",
        "from sklearn.metrics import classification_report, confusion_matrix\n",
        "\n",
        "def plot_training_history(history):\n",
        "    plt.figure(figsize=(12, 4))\n",
        "\n",
        "    # Plot training & validation accuracy values\n",
        "    plt.subplot(1, 2, 1)\n",
        "    plt.plot(history.history['accuracy'])\n",
        "    plt.plot(history.history['val_accuracy'])\n",
        "    plt.title('Model accuracy')\n",
        "    plt.ylabel('Accuracy')\n",
        "    plt.xlabel('Epoch')\n",
        "    plt.ylim(0.5, 1)  # Set y-axis range from 0 to 1\n",
        "    plt.legend(['Train', 'Validation'], loc='upper left')\n",
        "\n",
        "    # Plot training & validation loss values\n",
        "    plt.subplot(1, 2, 2)\n",
        "    plt.plot(history.history['loss'])\n",
        "    plt.plot(history.history['val_loss'])\n",
        "    plt.title('Model loss')\n",
        "    plt.ylabel('Loss')\n",
        "    plt.xlabel('Epoch')\n",
        "    plt.legend(['Train', 'Validation'], loc='upper left')\n",
        "\n",
        "    plt.tight_layout()\n",
        "    plt.show()\n",
        "\n",
        "# Plot training history\n",
        "plot_training_history(history)\n",
        "\n",
        "# Create and display a confusion matrix\n",
        "def plot_confusion_matrix(y_true, y_pred, classes):\n",
        "    cm = confusion_matrix(y_true, y_pred)\n",
        "    fig, ax = plt.subplots()\n",
        "    im = ax.imshow(cm, interpolation='nearest', cmap=plt.cm.Blues)\n",
        "    ax.figure.colorbar(im, ax=ax)\n",
        "    ax.set(xticks=np.arange(cm.shape[1]), yticks=np.arange(cm.shape[0]), xticklabels=classes, yticklabels=classes, title='Confusion Matrix')\n",
        "    plt.xlabel('Predicted')\n",
        "    plt.ylabel('True')\n",
        "    plt.show()\n",
        "\n",
        "# Evaluate the model on the test dataset\n",
        "test_generator = original_datagen.flow_from_directory(\n",
        "    data_dir,\n",
        "    target_size=image_size,\n",
        "    batch_size=batch_size,\n",
        "    class_mode='categorical',\n",
        "    subset='validation'  # Validation data\n",
        ")\n",
        "\n",
        "test_steps = len(test_generator)\n",
        "test_generator.reset()\n",
        "y_pred = model.predict(test_generator, steps=test_steps)\n",
        "y_pred = np.argmax(y_pred, axis=1)\n",
        "y_true = test_generator.classes\n",
        "\n",
        "# Get class labels from the generator\n",
        "class_labels = list(test_generator.class_indices.keys())\n",
        "\n",
        "# Plot the confusion matrix\n",
        "plot_confusion_matrix(y_true, y_pred, class_labels)\n",
        "\n",
        "# Classification Report\n",
        "report = classification_report(y_true, y_pred, target_names=class_labels)\n",
        "print(report)"
      ]
    },
    {
      "cell_type": "markdown",
      "source": [
        "**Save trained weight**"
      ],
      "metadata": {
        "id": "mD8uKr_X8EV6"
      }
    },
    {
      "cell_type": "code",
      "source": [
        "from datetime import date, datetime\n",
        "model.save(weight_dir+f'trash-{date.today()}-{datetime.now().strftime(\"%H-%M\")}.h5')"
      ],
      "metadata": {
        "id": "ve2v4bT08Gny"
      },
      "execution_count": null,
      "outputs": []
    },
    {
      "cell_type": "markdown",
      "metadata": {
        "id": "LTgVrV77fIw_"
      },
      "source": [
        "**Appendix**"
      ]
    },
    {
      "cell_type": "markdown",
      "metadata": {
        "id": "GcHyBlJ-fPD-"
      },
      "source": [
        "Architecture"
      ]
    },
    {
      "cell_type": "code",
      "execution_count": null,
      "metadata": {
        "colab": {
          "base_uri": "https://localhost:8080/"
        },
        "id": "Ng0hd_K6fPcA",
        "outputId": "c2c2e38b-a42c-4e13-a2c9-d8cc0bc6b7b2"
      },
      "outputs": [
        {
          "name": "stderr",
          "output_type": "stream",
          "text": [
            "WARNING:tensorflow:`input_shape` is undefined or non-square, or `rows` is not 224. Weights for input shape (224, 224) will be loaded as the default.\n"
          ]
        },
        {
          "name": "stdout",
          "output_type": "stream",
          "text": [
            "<keras.engine.functional.Functional object at 0x7f89bfb1e2c0>\n"
          ]
        }
      ],
      "source": [
        "temp1 = MobileNetV3Large(weights='imagenet', classes=5, include_top=False, dropout_rate=0.5, input_shape=None, minimalistic=False,)\n",
        "print(temp1)"
      ]
    }
  ],
  "metadata": {
    "accelerator": "TPU",
    "colab": {
      "provenance": [],
      "mount_file_id": "1sbBRXpOnl7qy6jdk0DRIn27ov2TzkBSS",
      "authorship_tag": "ABX9TyPbHa0ctRUCLmmt0mS5Q4aG",
      "include_colab_link": true
    },
    "kernelspec": {
      "display_name": "Python 3",
      "name": "python3"
    },
    "language_info": {
      "name": "python"
    }
  },
  "nbformat": 4,
  "nbformat_minor": 0
}